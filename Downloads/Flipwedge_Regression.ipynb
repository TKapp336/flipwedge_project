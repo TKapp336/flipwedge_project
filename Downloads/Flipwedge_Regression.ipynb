{
 "cells": [
  {
   "cell_type": "markdown",
   "id": "52aade0b",
   "metadata": {},
   "source": [
    "## Import libaries"
   ]
  },
  {
   "cell_type": "code",
   "execution_count": 383,
   "id": "fe854799",
   "metadata": {},
   "outputs": [],
   "source": [
    "import pandas as pd\n",
    "import random\n",
    "from sklearn.model_selection import train_test_split\n",
    "from sklearn.preprocessing import MinMaxScaler\n",
    "from sklearn.linear_model import LinearRegression\n",
    "from sklearn.preprocessing import PolynomialFeatures\n",
    "from sklearn.pipeline import make_pipeline\n",
    "from sklearn.metrics import explained_variance_score, mean_squared_error, mean_absolute_error\n",
    "import sklearn.metrics as metrics\n",
    "from sklearn.svm import SVR\n",
    "from sklearn.tree import DecisionTreeRegressor\n",
    "from sklearn.ensemble import RandomForestRegressor, BaggingRegressor, GradientBoostingRegressor\n",
    "import xgboost as xgb\n",
    "from statsmodels.tsa.holtwinters import ExponentialSmoothing\n",
    "import numpy as np"
   ]
  },
  {
   "cell_type": "markdown",
   "id": "a26f3006",
   "metadata": {},
   "source": [
    "## Completely random faux dataset"
   ]
  },
  {
   "cell_type": "code",
   "execution_count": 331,
   "id": "cd6c97cd",
   "metadata": {
    "scrolled": true
   },
   "outputs": [],
   "source": [
    "demand = []\n",
    "for i in range(0,100):\n",
    "    n = random.randint(0,10000)\n",
    "    demand.append(n)\n",
    "\n",
    "product_price = []\n",
    "\n",
    "for i in range(0,100):\n",
    "    n = random.randint(10,1000)\n",
    "    product_price.append(n)\n",
    "\n",
    "date = []\n",
    "for i in range(0,100):\n",
    "    date.append(\"t - \" + str(i))\n",
    "\n",
    "skews_list = ['3-iron','4-iron','5-iron','6-iron','7-iron','8-iron','9-iron','driver','1-wood','2-wood','3-wood','4-wood',\n",
    "        '5-wood','6-wood','7-wood','3-hybrid','4-hybrid','5-hybrid','pitching wedge','approach wedge','sand wedge',\n",
    "        'lob wedge', 'putter']\n",
    "skews = []\n",
    "for i in range(0,100):\n",
    "    n = random.choice(skews_list)\n",
    "    skews.append(n)"
   ]
  },
  {
   "cell_type": "code",
   "execution_count": 332,
   "id": "c02cb297",
   "metadata": {
    "scrolled": true
   },
   "outputs": [
    {
     "data": {
      "text/html": [
       "<div>\n",
       "<style scoped>\n",
       "    .dataframe tbody tr th:only-of-type {\n",
       "        vertical-align: middle;\n",
       "    }\n",
       "\n",
       "    .dataframe tbody tr th {\n",
       "        vertical-align: top;\n",
       "    }\n",
       "\n",
       "    .dataframe thead th {\n",
       "        text-align: right;\n",
       "    }\n",
       "</style>\n",
       "<table border=\"1\" class=\"dataframe\">\n",
       "  <thead>\n",
       "    <tr style=\"text-align: right;\">\n",
       "      <th></th>\n",
       "      <th>date</th>\n",
       "      <th>demand</th>\n",
       "      <th>product_price</th>\n",
       "      <th>skews</th>\n",
       "    </tr>\n",
       "  </thead>\n",
       "  <tbody>\n",
       "    <tr>\n",
       "      <th>0</th>\n",
       "      <td>t - 0</td>\n",
       "      <td>9103</td>\n",
       "      <td>356</td>\n",
       "      <td>5-wood</td>\n",
       "    </tr>\n",
       "    <tr>\n",
       "      <th>1</th>\n",
       "      <td>t - 1</td>\n",
       "      <td>2684</td>\n",
       "      <td>791</td>\n",
       "      <td>driver</td>\n",
       "    </tr>\n",
       "    <tr>\n",
       "      <th>2</th>\n",
       "      <td>t - 2</td>\n",
       "      <td>5025</td>\n",
       "      <td>195</td>\n",
       "      <td>1-wood</td>\n",
       "    </tr>\n",
       "    <tr>\n",
       "      <th>3</th>\n",
       "      <td>t - 3</td>\n",
       "      <td>2389</td>\n",
       "      <td>469</td>\n",
       "      <td>6-wood</td>\n",
       "    </tr>\n",
       "    <tr>\n",
       "      <th>4</th>\n",
       "      <td>t - 4</td>\n",
       "      <td>5649</td>\n",
       "      <td>373</td>\n",
       "      <td>7-wood</td>\n",
       "    </tr>\n",
       "  </tbody>\n",
       "</table>\n",
       "</div>"
      ],
      "text/plain": [
       "    date  demand  product_price   skews\n",
       "0  t - 0    9103            356  5-wood\n",
       "1  t - 1    2684            791  driver\n",
       "2  t - 2    5025            195  1-wood\n",
       "3  t - 3    2389            469  6-wood\n",
       "4  t - 4    5649            373  7-wood"
      ]
     },
     "execution_count": 332,
     "metadata": {},
     "output_type": "execute_result"
    }
   ],
   "source": [
    "# Define a dictionary containing Students data\n",
    "data = {'date': date,\n",
    "        'demand': demand,\n",
    "        'product_price': product_price,\n",
    "        'skews': skews,\n",
    "       }\n",
    "  \n",
    "# Convert the dictionary into DataFrame\n",
    "dataset = pd.DataFrame(data)\n",
    "dataset.head()"
   ]
  },
  {
   "cell_type": "markdown",
   "id": "0d8d0e81",
   "metadata": {},
   "source": [
    "## One-Hot Encode"
   ]
  },
  {
   "cell_type": "markdown",
   "id": "3c35da57",
   "metadata": {},
   "source": [
    "#### Separate the two datasets here into a cross-sectional one, and a longitudinal as the approaches diverge here"
   ]
  },
  {
   "cell_type": "code",
   "execution_count": 333,
   "id": "b6e1fe01",
   "metadata": {},
   "outputs": [],
   "source": [
    "dataset_long = dataset\n",
    "dataset_cross = dataset.loc[:, ['demand','skews','product_price']]"
   ]
  },
  {
   "cell_type": "code",
   "execution_count": 334,
   "id": "7f41730b",
   "metadata": {},
   "outputs": [],
   "source": [
    "dataset_cross = pd.get_dummies(dataset_cross, prefix=['skews'])"
   ]
  },
  {
   "cell_type": "code",
   "execution_count": 335,
   "id": "823f882c",
   "metadata": {
    "scrolled": false
   },
   "outputs": [
    {
     "data": {
      "text/html": [
       "<div>\n",
       "<style scoped>\n",
       "    .dataframe tbody tr th:only-of-type {\n",
       "        vertical-align: middle;\n",
       "    }\n",
       "\n",
       "    .dataframe tbody tr th {\n",
       "        vertical-align: top;\n",
       "    }\n",
       "\n",
       "    .dataframe thead th {\n",
       "        text-align: right;\n",
       "    }\n",
       "</style>\n",
       "<table border=\"1\" class=\"dataframe\">\n",
       "  <thead>\n",
       "    <tr style=\"text-align: right;\">\n",
       "      <th></th>\n",
       "      <th>demand</th>\n",
       "      <th>product_price</th>\n",
       "      <th>skews_1-wood</th>\n",
       "      <th>skews_2-wood</th>\n",
       "      <th>skews_3-hybrid</th>\n",
       "      <th>skews_3-iron</th>\n",
       "      <th>skews_3-wood</th>\n",
       "      <th>skews_4-hybrid</th>\n",
       "      <th>skews_4-iron</th>\n",
       "      <th>skews_4-wood</th>\n",
       "      <th>skews_5-hybrid</th>\n",
       "      <th>skews_5-iron</th>\n",
       "      <th>skews_5-wood</th>\n",
       "      <th>skews_6-iron</th>\n",
       "      <th>skews_6-wood</th>\n",
       "      <th>skews_7-iron</th>\n",
       "      <th>skews_7-wood</th>\n",
       "      <th>skews_8-iron</th>\n",
       "      <th>skews_9-iron</th>\n",
       "      <th>skews_approach wedge</th>\n",
       "      <th>skews_driver</th>\n",
       "      <th>skews_lob wedge</th>\n",
       "      <th>skews_pitching wedge</th>\n",
       "      <th>skews_putter</th>\n",
       "      <th>skews_sand wedge</th>\n",
       "    </tr>\n",
       "  </thead>\n",
       "  <tbody>\n",
       "    <tr>\n",
       "      <th>0</th>\n",
       "      <td>9103</td>\n",
       "      <td>356</td>\n",
       "      <td>0</td>\n",
       "      <td>0</td>\n",
       "      <td>0</td>\n",
       "      <td>0</td>\n",
       "      <td>0</td>\n",
       "      <td>0</td>\n",
       "      <td>0</td>\n",
       "      <td>0</td>\n",
       "      <td>0</td>\n",
       "      <td>0</td>\n",
       "      <td>1</td>\n",
       "      <td>0</td>\n",
       "      <td>0</td>\n",
       "      <td>0</td>\n",
       "      <td>0</td>\n",
       "      <td>0</td>\n",
       "      <td>0</td>\n",
       "      <td>0</td>\n",
       "      <td>0</td>\n",
       "      <td>0</td>\n",
       "      <td>0</td>\n",
       "      <td>0</td>\n",
       "      <td>0</td>\n",
       "    </tr>\n",
       "    <tr>\n",
       "      <th>1</th>\n",
       "      <td>2684</td>\n",
       "      <td>791</td>\n",
       "      <td>0</td>\n",
       "      <td>0</td>\n",
       "      <td>0</td>\n",
       "      <td>0</td>\n",
       "      <td>0</td>\n",
       "      <td>0</td>\n",
       "      <td>0</td>\n",
       "      <td>0</td>\n",
       "      <td>0</td>\n",
       "      <td>0</td>\n",
       "      <td>0</td>\n",
       "      <td>0</td>\n",
       "      <td>0</td>\n",
       "      <td>0</td>\n",
       "      <td>0</td>\n",
       "      <td>0</td>\n",
       "      <td>0</td>\n",
       "      <td>0</td>\n",
       "      <td>1</td>\n",
       "      <td>0</td>\n",
       "      <td>0</td>\n",
       "      <td>0</td>\n",
       "      <td>0</td>\n",
       "    </tr>\n",
       "    <tr>\n",
       "      <th>2</th>\n",
       "      <td>5025</td>\n",
       "      <td>195</td>\n",
       "      <td>1</td>\n",
       "      <td>0</td>\n",
       "      <td>0</td>\n",
       "      <td>0</td>\n",
       "      <td>0</td>\n",
       "      <td>0</td>\n",
       "      <td>0</td>\n",
       "      <td>0</td>\n",
       "      <td>0</td>\n",
       "      <td>0</td>\n",
       "      <td>0</td>\n",
       "      <td>0</td>\n",
       "      <td>0</td>\n",
       "      <td>0</td>\n",
       "      <td>0</td>\n",
       "      <td>0</td>\n",
       "      <td>0</td>\n",
       "      <td>0</td>\n",
       "      <td>0</td>\n",
       "      <td>0</td>\n",
       "      <td>0</td>\n",
       "      <td>0</td>\n",
       "      <td>0</td>\n",
       "    </tr>\n",
       "    <tr>\n",
       "      <th>3</th>\n",
       "      <td>2389</td>\n",
       "      <td>469</td>\n",
       "      <td>0</td>\n",
       "      <td>0</td>\n",
       "      <td>0</td>\n",
       "      <td>0</td>\n",
       "      <td>0</td>\n",
       "      <td>0</td>\n",
       "      <td>0</td>\n",
       "      <td>0</td>\n",
       "      <td>0</td>\n",
       "      <td>0</td>\n",
       "      <td>0</td>\n",
       "      <td>0</td>\n",
       "      <td>1</td>\n",
       "      <td>0</td>\n",
       "      <td>0</td>\n",
       "      <td>0</td>\n",
       "      <td>0</td>\n",
       "      <td>0</td>\n",
       "      <td>0</td>\n",
       "      <td>0</td>\n",
       "      <td>0</td>\n",
       "      <td>0</td>\n",
       "      <td>0</td>\n",
       "    </tr>\n",
       "    <tr>\n",
       "      <th>4</th>\n",
       "      <td>5649</td>\n",
       "      <td>373</td>\n",
       "      <td>0</td>\n",
       "      <td>0</td>\n",
       "      <td>0</td>\n",
       "      <td>0</td>\n",
       "      <td>0</td>\n",
       "      <td>0</td>\n",
       "      <td>0</td>\n",
       "      <td>0</td>\n",
       "      <td>0</td>\n",
       "      <td>0</td>\n",
       "      <td>0</td>\n",
       "      <td>0</td>\n",
       "      <td>0</td>\n",
       "      <td>0</td>\n",
       "      <td>1</td>\n",
       "      <td>0</td>\n",
       "      <td>0</td>\n",
       "      <td>0</td>\n",
       "      <td>0</td>\n",
       "      <td>0</td>\n",
       "      <td>0</td>\n",
       "      <td>0</td>\n",
       "      <td>0</td>\n",
       "    </tr>\n",
       "  </tbody>\n",
       "</table>\n",
       "</div>"
      ],
      "text/plain": [
       "   demand  product_price  skews_1-wood  skews_2-wood  skews_3-hybrid  \\\n",
       "0    9103            356             0             0               0   \n",
       "1    2684            791             0             0               0   \n",
       "2    5025            195             1             0               0   \n",
       "3    2389            469             0             0               0   \n",
       "4    5649            373             0             0               0   \n",
       "\n",
       "   skews_3-iron  skews_3-wood  skews_4-hybrid  skews_4-iron  skews_4-wood  \\\n",
       "0             0             0               0             0             0   \n",
       "1             0             0               0             0             0   \n",
       "2             0             0               0             0             0   \n",
       "3             0             0               0             0             0   \n",
       "4             0             0               0             0             0   \n",
       "\n",
       "   skews_5-hybrid  skews_5-iron  skews_5-wood  skews_6-iron  skews_6-wood  \\\n",
       "0               0             0             1             0             0   \n",
       "1               0             0             0             0             0   \n",
       "2               0             0             0             0             0   \n",
       "3               0             0             0             0             1   \n",
       "4               0             0             0             0             0   \n",
       "\n",
       "   skews_7-iron  skews_7-wood  skews_8-iron  skews_9-iron  \\\n",
       "0             0             0             0             0   \n",
       "1             0             0             0             0   \n",
       "2             0             0             0             0   \n",
       "3             0             0             0             0   \n",
       "4             0             1             0             0   \n",
       "\n",
       "   skews_approach wedge  skews_driver  skews_lob wedge  skews_pitching wedge  \\\n",
       "0                     0             0                0                     0   \n",
       "1                     0             1                0                     0   \n",
       "2                     0             0                0                     0   \n",
       "3                     0             0                0                     0   \n",
       "4                     0             0                0                     0   \n",
       "\n",
       "   skews_putter  skews_sand wedge  \n",
       "0             0                 0  \n",
       "1             0                 0  \n",
       "2             0                 0  \n",
       "3             0                 0  \n",
       "4             0                 0  "
      ]
     },
     "execution_count": 335,
     "metadata": {},
     "output_type": "execute_result"
    }
   ],
   "source": [
    "pd.set_option('display.max_columns', None)\n",
    "dataset_cross.head()"
   ]
  },
  {
   "cell_type": "markdown",
   "id": "0ca5ca86",
   "metadata": {},
   "source": [
    "#### We could filter the dataset here based on skew"
   ]
  },
  {
   "cell_type": "code",
   "execution_count": 336,
   "id": "1fae0623",
   "metadata": {},
   "outputs": [],
   "source": [
    "## filter the data via skew"
   ]
  },
  {
   "cell_type": "code",
   "execution_count": 337,
   "id": "4721e7f3",
   "metadata": {},
   "outputs": [
    {
     "data": {
      "text/plain": [
       "25"
      ]
     },
     "execution_count": 337,
     "metadata": {},
     "output_type": "execute_result"
    }
   ],
   "source": [
    "len(dataset_cross.columns)"
   ]
  },
  {
   "cell_type": "markdown",
   "id": "53a397b5",
   "metadata": {},
   "source": [
    "## Split the dataset into feature/target label "
   ]
  },
  {
   "cell_type": "code",
   "execution_count": 338,
   "id": "352ec68e",
   "metadata": {},
   "outputs": [],
   "source": [
    "x = dataset_cross.loc[:, [\"demand\",\"skews_1-wood\",\"skews_2-wood\",\"skews_3-hybrid\",\"skews_3-iron\",\n",
    "                   \"skews_3-wood\",\"skews_4-hybrid\",\"skews_4-iron\",\"skews_4-wood\",\"skews_5-hybrid\",\"skews_5-iron\",\n",
    "                   \"skews_5-wood\",\"skews_6-iron\",\"skews_6-wood\",\"skews_7-iron\",\"skews_7-wood\",\"skews_8-iron\",\n",
    "                   \"skews_9-iron\",\"skews_approach wedge\",\"skews_driver\",\"skews_lob wedge\",\"skews_pitching wedge\",\n",
    "                   \"skews_putter\", \"skews_sand wedge\"]]\n",
    "y = dataset_cross.loc[:, [\"product_price\"]]"
   ]
  },
  {
   "cell_type": "code",
   "execution_count": 339,
   "id": "b6211ff6",
   "metadata": {},
   "outputs": [
    {
     "name": "stdout",
     "output_type": "stream",
     "text": [
      "24\n",
      "1\n"
     ]
    }
   ],
   "source": [
    "print(len(x.columns))\n",
    "print(len(y.columns))"
   ]
  },
  {
   "cell_type": "markdown",
   "id": "6c46f136",
   "metadata": {},
   "source": [
    "## Split the dataset into training and test sets"
   ]
  },
  {
   "cell_type": "code",
   "execution_count": 340,
   "id": "b3ecc70c",
   "metadata": {},
   "outputs": [],
   "source": [
    "x_train, x_test, y_train, y_test = train_test_split(x, y, test_size=0.20, random_state=4)"
   ]
  },
  {
   "cell_type": "code",
   "execution_count": 341,
   "id": "426eefa7",
   "metadata": {},
   "outputs": [
    {
     "data": {
      "text/html": [
       "<div>\n",
       "<style scoped>\n",
       "    .dataframe tbody tr th:only-of-type {\n",
       "        vertical-align: middle;\n",
       "    }\n",
       "\n",
       "    .dataframe tbody tr th {\n",
       "        vertical-align: top;\n",
       "    }\n",
       "\n",
       "    .dataframe thead th {\n",
       "        text-align: right;\n",
       "    }\n",
       "</style>\n",
       "<table border=\"1\" class=\"dataframe\">\n",
       "  <thead>\n",
       "    <tr style=\"text-align: right;\">\n",
       "      <th></th>\n",
       "      <th>demand</th>\n",
       "      <th>skews_1-wood</th>\n",
       "      <th>skews_2-wood</th>\n",
       "      <th>skews_3-hybrid</th>\n",
       "      <th>skews_3-iron</th>\n",
       "      <th>skews_3-wood</th>\n",
       "      <th>skews_4-hybrid</th>\n",
       "      <th>skews_4-iron</th>\n",
       "      <th>skews_4-wood</th>\n",
       "      <th>skews_5-hybrid</th>\n",
       "      <th>skews_5-iron</th>\n",
       "      <th>skews_5-wood</th>\n",
       "      <th>skews_6-iron</th>\n",
       "      <th>skews_6-wood</th>\n",
       "      <th>skews_7-iron</th>\n",
       "      <th>skews_7-wood</th>\n",
       "      <th>skews_8-iron</th>\n",
       "      <th>skews_9-iron</th>\n",
       "      <th>skews_approach wedge</th>\n",
       "      <th>skews_driver</th>\n",
       "      <th>skews_lob wedge</th>\n",
       "      <th>skews_pitching wedge</th>\n",
       "      <th>skews_putter</th>\n",
       "      <th>skews_sand wedge</th>\n",
       "    </tr>\n",
       "  </thead>\n",
       "  <tbody>\n",
       "    <tr>\n",
       "      <th>80</th>\n",
       "      <td>945</td>\n",
       "      <td>0</td>\n",
       "      <td>0</td>\n",
       "      <td>0</td>\n",
       "      <td>0</td>\n",
       "      <td>0</td>\n",
       "      <td>0</td>\n",
       "      <td>0</td>\n",
       "      <td>0</td>\n",
       "      <td>0</td>\n",
       "      <td>0</td>\n",
       "      <td>0</td>\n",
       "      <td>0</td>\n",
       "      <td>0</td>\n",
       "      <td>0</td>\n",
       "      <td>0</td>\n",
       "      <td>0</td>\n",
       "      <td>0</td>\n",
       "      <td>1</td>\n",
       "      <td>0</td>\n",
       "      <td>0</td>\n",
       "      <td>0</td>\n",
       "      <td>0</td>\n",
       "      <td>0</td>\n",
       "    </tr>\n",
       "    <tr>\n",
       "      <th>4</th>\n",
       "      <td>5649</td>\n",
       "      <td>0</td>\n",
       "      <td>0</td>\n",
       "      <td>0</td>\n",
       "      <td>0</td>\n",
       "      <td>0</td>\n",
       "      <td>0</td>\n",
       "      <td>0</td>\n",
       "      <td>0</td>\n",
       "      <td>0</td>\n",
       "      <td>0</td>\n",
       "      <td>0</td>\n",
       "      <td>0</td>\n",
       "      <td>0</td>\n",
       "      <td>0</td>\n",
       "      <td>1</td>\n",
       "      <td>0</td>\n",
       "      <td>0</td>\n",
       "      <td>0</td>\n",
       "      <td>0</td>\n",
       "      <td>0</td>\n",
       "      <td>0</td>\n",
       "      <td>0</td>\n",
       "      <td>0</td>\n",
       "    </tr>\n",
       "    <tr>\n",
       "      <th>81</th>\n",
       "      <td>4079</td>\n",
       "      <td>0</td>\n",
       "      <td>0</td>\n",
       "      <td>0</td>\n",
       "      <td>0</td>\n",
       "      <td>0</td>\n",
       "      <td>0</td>\n",
       "      <td>0</td>\n",
       "      <td>0</td>\n",
       "      <td>0</td>\n",
       "      <td>1</td>\n",
       "      <td>0</td>\n",
       "      <td>0</td>\n",
       "      <td>0</td>\n",
       "      <td>0</td>\n",
       "      <td>0</td>\n",
       "      <td>0</td>\n",
       "      <td>0</td>\n",
       "      <td>0</td>\n",
       "      <td>0</td>\n",
       "      <td>0</td>\n",
       "      <td>0</td>\n",
       "      <td>0</td>\n",
       "      <td>0</td>\n",
       "    </tr>\n",
       "    <tr>\n",
       "      <th>76</th>\n",
       "      <td>698</td>\n",
       "      <td>0</td>\n",
       "      <td>0</td>\n",
       "      <td>0</td>\n",
       "      <td>0</td>\n",
       "      <td>0</td>\n",
       "      <td>0</td>\n",
       "      <td>0</td>\n",
       "      <td>0</td>\n",
       "      <td>1</td>\n",
       "      <td>0</td>\n",
       "      <td>0</td>\n",
       "      <td>0</td>\n",
       "      <td>0</td>\n",
       "      <td>0</td>\n",
       "      <td>0</td>\n",
       "      <td>0</td>\n",
       "      <td>0</td>\n",
       "      <td>0</td>\n",
       "      <td>0</td>\n",
       "      <td>0</td>\n",
       "      <td>0</td>\n",
       "      <td>0</td>\n",
       "      <td>0</td>\n",
       "    </tr>\n",
       "    <tr>\n",
       "      <th>85</th>\n",
       "      <td>5470</td>\n",
       "      <td>0</td>\n",
       "      <td>0</td>\n",
       "      <td>0</td>\n",
       "      <td>0</td>\n",
       "      <td>1</td>\n",
       "      <td>0</td>\n",
       "      <td>0</td>\n",
       "      <td>0</td>\n",
       "      <td>0</td>\n",
       "      <td>0</td>\n",
       "      <td>0</td>\n",
       "      <td>0</td>\n",
       "      <td>0</td>\n",
       "      <td>0</td>\n",
       "      <td>0</td>\n",
       "      <td>0</td>\n",
       "      <td>0</td>\n",
       "      <td>0</td>\n",
       "      <td>0</td>\n",
       "      <td>0</td>\n",
       "      <td>0</td>\n",
       "      <td>0</td>\n",
       "      <td>0</td>\n",
       "    </tr>\n",
       "  </tbody>\n",
       "</table>\n",
       "</div>"
      ],
      "text/plain": [
       "    demand  skews_1-wood  skews_2-wood  skews_3-hybrid  skews_3-iron  \\\n",
       "80     945             0             0               0             0   \n",
       "4     5649             0             0               0             0   \n",
       "81    4079             0             0               0             0   \n",
       "76     698             0             0               0             0   \n",
       "85    5470             0             0               0             0   \n",
       "\n",
       "    skews_3-wood  skews_4-hybrid  skews_4-iron  skews_4-wood  skews_5-hybrid  \\\n",
       "80             0               0             0             0               0   \n",
       "4              0               0             0             0               0   \n",
       "81             0               0             0             0               0   \n",
       "76             0               0             0             0               1   \n",
       "85             1               0             0             0               0   \n",
       "\n",
       "    skews_5-iron  skews_5-wood  skews_6-iron  skews_6-wood  skews_7-iron  \\\n",
       "80             0             0             0             0             0   \n",
       "4              0             0             0             0             0   \n",
       "81             1             0             0             0             0   \n",
       "76             0             0             0             0             0   \n",
       "85             0             0             0             0             0   \n",
       "\n",
       "    skews_7-wood  skews_8-iron  skews_9-iron  skews_approach wedge  \\\n",
       "80             0             0             0                     1   \n",
       "4              1             0             0                     0   \n",
       "81             0             0             0                     0   \n",
       "76             0             0             0                     0   \n",
       "85             0             0             0                     0   \n",
       "\n",
       "    skews_driver  skews_lob wedge  skews_pitching wedge  skews_putter  \\\n",
       "80             0                0                     0             0   \n",
       "4              0                0                     0             0   \n",
       "81             0                0                     0             0   \n",
       "76             0                0                     0             0   \n",
       "85             0                0                     0             0   \n",
       "\n",
       "    skews_sand wedge  \n",
       "80                 0  \n",
       "4                  0  \n",
       "81                 0  \n",
       "76                 0  \n",
       "85                 0  "
      ]
     },
     "execution_count": 341,
     "metadata": {},
     "output_type": "execute_result"
    }
   ],
   "source": [
    "x_train.head()"
   ]
  },
  {
   "cell_type": "code",
   "execution_count": 342,
   "id": "5bec5c9f",
   "metadata": {},
   "outputs": [
    {
     "data": {
      "text/html": [
       "<div>\n",
       "<style scoped>\n",
       "    .dataframe tbody tr th:only-of-type {\n",
       "        vertical-align: middle;\n",
       "    }\n",
       "\n",
       "    .dataframe tbody tr th {\n",
       "        vertical-align: top;\n",
       "    }\n",
       "\n",
       "    .dataframe thead th {\n",
       "        text-align: right;\n",
       "    }\n",
       "</style>\n",
       "<table border=\"1\" class=\"dataframe\">\n",
       "  <thead>\n",
       "    <tr style=\"text-align: right;\">\n",
       "      <th></th>\n",
       "      <th>product_price</th>\n",
       "    </tr>\n",
       "  </thead>\n",
       "  <tbody>\n",
       "    <tr>\n",
       "      <th>80</th>\n",
       "      <td>555</td>\n",
       "    </tr>\n",
       "    <tr>\n",
       "      <th>4</th>\n",
       "      <td>373</td>\n",
       "    </tr>\n",
       "    <tr>\n",
       "      <th>81</th>\n",
       "      <td>920</td>\n",
       "    </tr>\n",
       "    <tr>\n",
       "      <th>76</th>\n",
       "      <td>809</td>\n",
       "    </tr>\n",
       "    <tr>\n",
       "      <th>85</th>\n",
       "      <td>547</td>\n",
       "    </tr>\n",
       "  </tbody>\n",
       "</table>\n",
       "</div>"
      ],
      "text/plain": [
       "    product_price\n",
       "80            555\n",
       "4             373\n",
       "81            920\n",
       "76            809\n",
       "85            547"
      ]
     },
     "execution_count": 342,
     "metadata": {},
     "output_type": "execute_result"
    }
   ],
   "source": [
    "y_train.head()"
   ]
  },
  {
   "cell_type": "code",
   "execution_count": 343,
   "id": "ab8213b1",
   "metadata": {
    "scrolled": true
   },
   "outputs": [
    {
     "data": {
      "text/html": [
       "<div>\n",
       "<style scoped>\n",
       "    .dataframe tbody tr th:only-of-type {\n",
       "        vertical-align: middle;\n",
       "    }\n",
       "\n",
       "    .dataframe tbody tr th {\n",
       "        vertical-align: top;\n",
       "    }\n",
       "\n",
       "    .dataframe thead th {\n",
       "        text-align: right;\n",
       "    }\n",
       "</style>\n",
       "<table border=\"1\" class=\"dataframe\">\n",
       "  <thead>\n",
       "    <tr style=\"text-align: right;\">\n",
       "      <th></th>\n",
       "      <th>demand</th>\n",
       "      <th>skews_1-wood</th>\n",
       "      <th>skews_2-wood</th>\n",
       "      <th>skews_3-hybrid</th>\n",
       "      <th>skews_3-iron</th>\n",
       "      <th>skews_3-wood</th>\n",
       "      <th>skews_4-hybrid</th>\n",
       "      <th>skews_4-iron</th>\n",
       "      <th>skews_4-wood</th>\n",
       "      <th>skews_5-hybrid</th>\n",
       "      <th>skews_5-iron</th>\n",
       "      <th>skews_5-wood</th>\n",
       "      <th>skews_6-iron</th>\n",
       "      <th>skews_6-wood</th>\n",
       "      <th>skews_7-iron</th>\n",
       "      <th>skews_7-wood</th>\n",
       "      <th>skews_8-iron</th>\n",
       "      <th>skews_9-iron</th>\n",
       "      <th>skews_approach wedge</th>\n",
       "      <th>skews_driver</th>\n",
       "      <th>skews_lob wedge</th>\n",
       "      <th>skews_pitching wedge</th>\n",
       "      <th>skews_putter</th>\n",
       "      <th>skews_sand wedge</th>\n",
       "    </tr>\n",
       "  </thead>\n",
       "  <tbody>\n",
       "    <tr>\n",
       "      <th>20</th>\n",
       "      <td>7053</td>\n",
       "      <td>0</td>\n",
       "      <td>0</td>\n",
       "      <td>0</td>\n",
       "      <td>0</td>\n",
       "      <td>0</td>\n",
       "      <td>0</td>\n",
       "      <td>0</td>\n",
       "      <td>0</td>\n",
       "      <td>0</td>\n",
       "      <td>0</td>\n",
       "      <td>0</td>\n",
       "      <td>0</td>\n",
       "      <td>0</td>\n",
       "      <td>0</td>\n",
       "      <td>0</td>\n",
       "      <td>0</td>\n",
       "      <td>0</td>\n",
       "      <td>0</td>\n",
       "      <td>0</td>\n",
       "      <td>1</td>\n",
       "      <td>0</td>\n",
       "      <td>0</td>\n",
       "      <td>0</td>\n",
       "    </tr>\n",
       "    <tr>\n",
       "      <th>10</th>\n",
       "      <td>6717</td>\n",
       "      <td>0</td>\n",
       "      <td>0</td>\n",
       "      <td>0</td>\n",
       "      <td>1</td>\n",
       "      <td>0</td>\n",
       "      <td>0</td>\n",
       "      <td>0</td>\n",
       "      <td>0</td>\n",
       "      <td>0</td>\n",
       "      <td>0</td>\n",
       "      <td>0</td>\n",
       "      <td>0</td>\n",
       "      <td>0</td>\n",
       "      <td>0</td>\n",
       "      <td>0</td>\n",
       "      <td>0</td>\n",
       "      <td>0</td>\n",
       "      <td>0</td>\n",
       "      <td>0</td>\n",
       "      <td>0</td>\n",
       "      <td>0</td>\n",
       "      <td>0</td>\n",
       "      <td>0</td>\n",
       "    </tr>\n",
       "    <tr>\n",
       "      <th>96</th>\n",
       "      <td>6902</td>\n",
       "      <td>0</td>\n",
       "      <td>1</td>\n",
       "      <td>0</td>\n",
       "      <td>0</td>\n",
       "      <td>0</td>\n",
       "      <td>0</td>\n",
       "      <td>0</td>\n",
       "      <td>0</td>\n",
       "      <td>0</td>\n",
       "      <td>0</td>\n",
       "      <td>0</td>\n",
       "      <td>0</td>\n",
       "      <td>0</td>\n",
       "      <td>0</td>\n",
       "      <td>0</td>\n",
       "      <td>0</td>\n",
       "      <td>0</td>\n",
       "      <td>0</td>\n",
       "      <td>0</td>\n",
       "      <td>0</td>\n",
       "      <td>0</td>\n",
       "      <td>0</td>\n",
       "      <td>0</td>\n",
       "    </tr>\n",
       "    <tr>\n",
       "      <th>16</th>\n",
       "      <td>4421</td>\n",
       "      <td>0</td>\n",
       "      <td>0</td>\n",
       "      <td>0</td>\n",
       "      <td>0</td>\n",
       "      <td>1</td>\n",
       "      <td>0</td>\n",
       "      <td>0</td>\n",
       "      <td>0</td>\n",
       "      <td>0</td>\n",
       "      <td>0</td>\n",
       "      <td>0</td>\n",
       "      <td>0</td>\n",
       "      <td>0</td>\n",
       "      <td>0</td>\n",
       "      <td>0</td>\n",
       "      <td>0</td>\n",
       "      <td>0</td>\n",
       "      <td>0</td>\n",
       "      <td>0</td>\n",
       "      <td>0</td>\n",
       "      <td>0</td>\n",
       "      <td>0</td>\n",
       "      <td>0</td>\n",
       "    </tr>\n",
       "    <tr>\n",
       "      <th>63</th>\n",
       "      <td>2757</td>\n",
       "      <td>0</td>\n",
       "      <td>0</td>\n",
       "      <td>0</td>\n",
       "      <td>0</td>\n",
       "      <td>0</td>\n",
       "      <td>0</td>\n",
       "      <td>0</td>\n",
       "      <td>0</td>\n",
       "      <td>0</td>\n",
       "      <td>0</td>\n",
       "      <td>0</td>\n",
       "      <td>0</td>\n",
       "      <td>1</td>\n",
       "      <td>0</td>\n",
       "      <td>0</td>\n",
       "      <td>0</td>\n",
       "      <td>0</td>\n",
       "      <td>0</td>\n",
       "      <td>0</td>\n",
       "      <td>0</td>\n",
       "      <td>0</td>\n",
       "      <td>0</td>\n",
       "      <td>0</td>\n",
       "    </tr>\n",
       "  </tbody>\n",
       "</table>\n",
       "</div>"
      ],
      "text/plain": [
       "    demand  skews_1-wood  skews_2-wood  skews_3-hybrid  skews_3-iron  \\\n",
       "20    7053             0             0               0             0   \n",
       "10    6717             0             0               0             1   \n",
       "96    6902             0             1               0             0   \n",
       "16    4421             0             0               0             0   \n",
       "63    2757             0             0               0             0   \n",
       "\n",
       "    skews_3-wood  skews_4-hybrid  skews_4-iron  skews_4-wood  skews_5-hybrid  \\\n",
       "20             0               0             0             0               0   \n",
       "10             0               0             0             0               0   \n",
       "96             0               0             0             0               0   \n",
       "16             1               0             0             0               0   \n",
       "63             0               0             0             0               0   \n",
       "\n",
       "    skews_5-iron  skews_5-wood  skews_6-iron  skews_6-wood  skews_7-iron  \\\n",
       "20             0             0             0             0             0   \n",
       "10             0             0             0             0             0   \n",
       "96             0             0             0             0             0   \n",
       "16             0             0             0             0             0   \n",
       "63             0             0             0             1             0   \n",
       "\n",
       "    skews_7-wood  skews_8-iron  skews_9-iron  skews_approach wedge  \\\n",
       "20             0             0             0                     0   \n",
       "10             0             0             0                     0   \n",
       "96             0             0             0                     0   \n",
       "16             0             0             0                     0   \n",
       "63             0             0             0                     0   \n",
       "\n",
       "    skews_driver  skews_lob wedge  skews_pitching wedge  skews_putter  \\\n",
       "20             0                1                     0             0   \n",
       "10             0                0                     0             0   \n",
       "96             0                0                     0             0   \n",
       "16             0                0                     0             0   \n",
       "63             0                0                     0             0   \n",
       "\n",
       "    skews_sand wedge  \n",
       "20                 0  \n",
       "10                 0  \n",
       "96                 0  \n",
       "16                 0  \n",
       "63                 0  "
      ]
     },
     "execution_count": 343,
     "metadata": {},
     "output_type": "execute_result"
    }
   ],
   "source": [
    "x_test.head()"
   ]
  },
  {
   "cell_type": "code",
   "execution_count": 344,
   "id": "3b8292b9",
   "metadata": {},
   "outputs": [
    {
     "data": {
      "text/html": [
       "<div>\n",
       "<style scoped>\n",
       "    .dataframe tbody tr th:only-of-type {\n",
       "        vertical-align: middle;\n",
       "    }\n",
       "\n",
       "    .dataframe tbody tr th {\n",
       "        vertical-align: top;\n",
       "    }\n",
       "\n",
       "    .dataframe thead th {\n",
       "        text-align: right;\n",
       "    }\n",
       "</style>\n",
       "<table border=\"1\" class=\"dataframe\">\n",
       "  <thead>\n",
       "    <tr style=\"text-align: right;\">\n",
       "      <th></th>\n",
       "      <th>product_price</th>\n",
       "    </tr>\n",
       "  </thead>\n",
       "  <tbody>\n",
       "    <tr>\n",
       "      <th>20</th>\n",
       "      <td>514</td>\n",
       "    </tr>\n",
       "    <tr>\n",
       "      <th>10</th>\n",
       "      <td>322</td>\n",
       "    </tr>\n",
       "    <tr>\n",
       "      <th>96</th>\n",
       "      <td>264</td>\n",
       "    </tr>\n",
       "    <tr>\n",
       "      <th>16</th>\n",
       "      <td>168</td>\n",
       "    </tr>\n",
       "    <tr>\n",
       "      <th>63</th>\n",
       "      <td>254</td>\n",
       "    </tr>\n",
       "  </tbody>\n",
       "</table>\n",
       "</div>"
      ],
      "text/plain": [
       "    product_price\n",
       "20            514\n",
       "10            322\n",
       "96            264\n",
       "16            168\n",
       "63            254"
      ]
     },
     "execution_count": 344,
     "metadata": {},
     "output_type": "execute_result"
    }
   ],
   "source": [
    "y_test.head()"
   ]
  },
  {
   "cell_type": "markdown",
   "id": "9fbbf1bb",
   "metadata": {},
   "source": [
    "## Scale the features so no bias based on range of values"
   ]
  },
  {
   "cell_type": "code",
   "execution_count": 345,
   "id": "ee5df30d",
   "metadata": {},
   "outputs": [],
   "source": [
    "scaler = MinMaxScaler()\n",
    "x_train_scaled = scaler.fit_transform(x_train)\n",
    "x_test_scaled = scaler.transform(x_test)"
   ]
  },
  {
   "cell_type": "code",
   "execution_count": 346,
   "id": "1ec7f5a3",
   "metadata": {},
   "outputs": [
    {
     "name": "stdout",
     "output_type": "stream",
     "text": [
      "[[0.09043091 0.         0.         ... 0.         0.         0.        ]\n",
      " [0.56625531 0.         0.         ... 0.         0.         0.        ]\n",
      " [0.40744487 0.         0.         ... 0.         0.         0.        ]\n",
      " ...\n",
      " [0.70008092 0.         0.         ... 0.         0.         0.        ]\n",
      " [0.23295569 0.         0.         ... 0.         0.         0.        ]\n",
      " [0.04248432 0.         0.         ... 0.         0.         0.        ]]\n"
     ]
    }
   ],
   "source": [
    "print(x_train_scaled)"
   ]
  },
  {
   "cell_type": "code",
   "execution_count": 347,
   "id": "41c6cb27",
   "metadata": {},
   "outputs": [
    {
     "name": "stdout",
     "output_type": "stream",
     "text": [
      "    product_price\n",
      "80            555\n",
      "4             373\n",
      "81            920\n",
      "76            809\n",
      "85            547\n",
      "..            ...\n",
      "87            685\n",
      "1             791\n",
      "69            509\n",
      "55            281\n",
      "46            531\n",
      "\n",
      "[80 rows x 1 columns]\n"
     ]
    }
   ],
   "source": [
    "print(y_train)"
   ]
  },
  {
   "cell_type": "code",
   "execution_count": 348,
   "id": "381f51fe",
   "metadata": {
    "scrolled": true
   },
   "outputs": [
    {
     "name": "stdout",
     "output_type": "stream",
     "text": [
      "[[0.70827433 0.         0.         0.         0.         0.\n",
      "  0.         0.         0.         0.         0.         0.\n",
      "  0.         0.         0.         0.         0.         0.\n",
      "  0.         0.         1.         0.         0.         0.        ]\n",
      " [0.67428687 0.         0.         0.         1.         0.\n",
      "  0.         0.         0.         0.         0.         0.\n",
      "  0.         0.         0.         0.         0.         0.\n",
      "  0.         0.         0.         0.         0.         0.        ]\n",
      " [0.6930002  0.         1.         0.         0.         0.\n",
      "  0.         0.         0.         0.         0.         0.\n",
      "  0.         0.         0.         0.         0.         0.\n",
      "  0.         0.         0.         0.         0.         0.        ]\n",
      " [0.44203925 0.         0.         0.         0.         1.\n",
      "  0.         0.         0.         0.         0.         0.\n",
      "  0.         0.         0.         0.         0.         0.\n",
      "  0.         0.         0.         0.         0.         0.        ]\n",
      " [0.27372041 0.         0.         0.         0.         0.\n",
      "  0.         0.         0.         0.         0.         0.\n",
      "  0.         1.         0.         0.         0.         0.\n",
      "  0.         0.         0.         0.         0.         0.        ]\n",
      " [0.7025086  0.         0.         0.         0.         0.\n",
      "  0.         0.         1.         0.         0.         0.\n",
      "  0.         0.         0.         0.         0.         0.\n",
      "  0.         0.         0.         0.         0.         0.        ]\n",
      " [0.03611167 0.         0.         0.         0.         0.\n",
      "  0.         0.         0.         0.         0.         0.\n",
      "  0.         0.         0.         0.         0.         1.\n",
      "  0.         0.         0.         0.         0.         0.        ]\n",
      " [0.54248432 0.         0.         0.         1.         0.\n",
      "  0.         0.         0.         0.         0.         0.\n",
      "  0.         0.         0.         0.         0.         0.\n",
      "  0.         0.         0.         0.         0.         0.        ]\n",
      " [0.71171353 0.         0.         0.         0.         0.\n",
      "  0.         0.         0.         0.         0.         0.\n",
      "  0.         1.         0.         0.         0.         0.\n",
      "  0.         0.         0.         0.         0.         0.        ]\n",
      " [0.52771596 0.         0.         0.         0.         0.\n",
      "  0.         0.         0.         0.         0.         0.\n",
      "  0.         0.         1.         0.         0.         0.\n",
      "  0.         0.         0.         0.         0.         0.        ]\n",
      " [0.49089622 1.         0.         0.         0.         0.\n",
      "  0.         0.         0.         0.         0.         0.\n",
      "  0.         0.         0.         0.         0.         0.\n",
      "  0.         0.         0.         0.         0.         0.        ]\n",
      " [0.50313575 1.         0.         0.         0.         0.\n",
      "  0.         0.         0.         0.         0.         0.\n",
      "  0.         0.         0.         0.         0.         0.\n",
      "  0.         0.         0.         0.         0.         0.        ]\n",
      " [0.22597613 0.         0.         0.         0.         1.\n",
      "  0.         0.         0.         0.         0.         0.\n",
      "  0.         0.         0.         0.         0.         0.\n",
      "  0.         0.         0.         0.         0.         0.        ]\n",
      " [0.38053813 0.         0.         0.         0.         0.\n",
      "  0.         0.         0.         0.         0.         0.\n",
      "  0.         0.         0.         0.         0.         0.\n",
      "  0.         0.         0.         1.         0.         0.        ]\n",
      " [0.78211612 0.         0.         0.         0.         0.\n",
      "  0.         0.         0.         0.         0.         0.\n",
      "  0.         0.         0.         0.         0.         0.\n",
      "  0.         0.         0.         1.         0.         0.        ]\n",
      " [0.53206555 0.         0.         1.         0.         0.\n",
      "  0.         0.         0.         0.         0.         0.\n",
      "  0.         0.         0.         0.         0.         0.\n",
      "  0.         0.         0.         0.         0.         0.        ]\n",
      " [0.53793243 0.         0.         0.         0.         0.\n",
      "  0.         0.         0.         0.         0.         0.\n",
      "  0.         0.         0.         0.         0.         0.\n",
      "  0.         1.         0.         0.         0.         0.        ]\n",
      " [0.26987659 0.         0.         0.         0.         0.\n",
      "  0.         0.         0.         0.         0.         0.\n",
      "  0.         0.         0.         0.         0.         0.\n",
      "  0.         0.         0.         1.         0.         0.        ]\n",
      " [0.66599231 0.         0.         0.         0.         0.\n",
      "  0.         0.         1.         0.         0.         0.\n",
      "  0.         0.         0.         0.         0.         0.\n",
      "  0.         0.         0.         0.         0.         0.        ]\n",
      " [0.64768359 0.         0.         0.         0.         0.\n",
      "  0.         0.         0.         0.         0.         0.\n",
      "  0.         0.         0.         0.         0.         0.\n",
      "  1.         0.         0.         0.         0.         0.        ]]\n"
     ]
    }
   ],
   "source": [
    "print(x_test_scaled)"
   ]
  },
  {
   "cell_type": "code",
   "execution_count": 349,
   "id": "aac24556",
   "metadata": {
    "scrolled": true
   },
   "outputs": [
    {
     "name": "stdout",
     "output_type": "stream",
     "text": [
      "    product_price\n",
      "20            514\n",
      "10            322\n",
      "96            264\n",
      "16            168\n",
      "63            254\n",
      "24            263\n",
      "53            274\n",
      "97            919\n",
      "41             55\n",
      "47            189\n",
      "43            676\n",
      "2             195\n",
      "95            929\n",
      "26            499\n",
      "13            853\n",
      "37            354\n",
      "14            321\n",
      "29            219\n",
      "35            326\n",
      "54            673\n"
     ]
    }
   ],
   "source": [
    "print(y_test)"
   ]
  },
  {
   "cell_type": "markdown",
   "id": "ee949a73",
   "metadata": {},
   "source": [
    "## Modeling"
   ]
  },
  {
   "cell_type": "markdown",
   "id": "590dcc29",
   "metadata": {},
   "source": [
    "### Cross-Sectional Models (likely sub-optimal approach compared to longitudinal, or filtered longitudinal, but can try them)\n",
    "*Note, all models are using default hyperparameters for now, which is severely sub-optimal"
   ]
  },
  {
   "cell_type": "markdown",
   "id": "aa61ccab",
   "metadata": {},
   "source": [
    "#### Linear Regression"
   ]
  },
  {
   "cell_type": "code",
   "execution_count": 350,
   "id": "b266fafc",
   "metadata": {},
   "outputs": [
    {
     "name": "stdout",
     "output_type": "stream",
     "text": [
      "This is the test mean-squared error (the lower the value the better):  1057219908831.5725\n",
      "This is the test mean-absolute error (the lower the value the better):  965151.9690645523\n",
      "This is the test explained variance score (best possible score is 1.0, lower values are worse):  -1917820.9895716517\n"
     ]
    },
    {
     "name": "stderr",
     "output_type": "stream",
     "text": [
      "/Users/tylerkapp/Library/Python/3.10/lib/python/site-packages/scikit_learn-1.2.0-py3.10-macosx-12-arm64.egg/sklearn/base.py:402: UserWarning: X has feature names, but LinearRegression was fitted without feature names\n",
      "  warnings.warn(\n"
     ]
    }
   ],
   "source": [
    "lin_reg = LinearRegression()\n",
    "model_1 = lin_reg.fit(x_train_scaled,y_train)\n",
    "y_predict = model_1.predict(x_test)\n",
    "lin_reg_test_mse = metrics.mean_squared_error(y_test, y_predict)\n",
    "lin_reg_test_mae = metrics.mean_absolute_error(y_test, y_predict)\n",
    "lin_reg_test_evs = explained_variance_score(y_test, y_predict)\n",
    "print(\"This is the test mean-squared error (the lower the value the better): \", lin_reg_test_mse)\n",
    "print(\"This is the test mean-absolute error (the lower the value the better): \", lin_reg_test_mae)\n",
    "print(\"This is the test explained variance score (best possible score is 1.0, lower values are worse): \", lin_reg_test_evs)"
   ]
  },
  {
   "cell_type": "markdown",
   "id": "d7fb4bb2",
   "metadata": {},
   "source": [
    "#### 2nd Degree Polynomial Regression"
   ]
  },
  {
   "cell_type": "code",
   "execution_count": 351,
   "id": "234864ed",
   "metadata": {},
   "outputs": [
    {
     "name": "stdout",
     "output_type": "stream",
     "text": [
      "This is the test mean-squared error (the lower the value the better):  5.8066564661562504e+38\n",
      "This is the test mean-absolute error (the lower the value the better):  7.375898919303588e+18\n",
      "This is the test explained variance score (best possible score is 1.0, lower values are worse):  -8.029145991030782e+33\n"
     ]
    },
    {
     "name": "stderr",
     "output_type": "stream",
     "text": [
      "/Users/tylerkapp/Library/Python/3.10/lib/python/site-packages/scikit_learn-1.2.0-py3.10-macosx-12-arm64.egg/sklearn/base.py:402: UserWarning: X has feature names, but PolynomialFeatures was fitted without feature names\n",
      "  warnings.warn(\n"
     ]
    }
   ],
   "source": [
    "poly_reg_2 = make_pipeline(PolynomialFeatures(2),LinearRegression())\n",
    "model_2 = poly_reg_2.fit(x_train_scaled,y_train)\n",
    "y_predict = model_2.predict(x_test)\n",
    "poly_reg_2_test_mse = metrics.mean_squared_error(y_test, y_predict)\n",
    "poly_reg_2_test_mae = metrics.mean_absolute_error(y_test, y_predict)\n",
    "poly_reg_2_test_evs = explained_variance_score(y_test, y_predict)\n",
    "print(\"This is the test mean-squared error (the lower the value the better): \", poly_reg_2_test_mse)\n",
    "print(\"This is the test mean-absolute error (the lower the value the better): \", poly_reg_2_test_mae)\n",
    "print(\"This is the test explained variance score (best possible score is 1.0, lower values are worse): \", poly_reg_2_test_evs)"
   ]
  },
  {
   "cell_type": "markdown",
   "id": "ef39a13e",
   "metadata": {},
   "source": [
    "#### 3rd Degree Polynomial Regression"
   ]
  },
  {
   "cell_type": "code",
   "execution_count": 352,
   "id": "e990080f",
   "metadata": {},
   "outputs": [
    {
     "name": "stdout",
     "output_type": "stream",
     "text": [
      "This is the test mean-squared error (the lower the value the better):  5.637497229631959e+45\n",
      "This is the test mean-absolute error (the lower the value the better):  2.793227017504088e+22\n",
      "This is the test explained variance score (best possible score is 1.0, lower values are worse):  -7.410733072870072e+40\n"
     ]
    },
    {
     "name": "stderr",
     "output_type": "stream",
     "text": [
      "/Users/tylerkapp/Library/Python/3.10/lib/python/site-packages/scikit_learn-1.2.0-py3.10-macosx-12-arm64.egg/sklearn/base.py:402: UserWarning: X has feature names, but PolynomialFeatures was fitted without feature names\n",
      "  warnings.warn(\n"
     ]
    }
   ],
   "source": [
    "poly_reg_3 =make_pipeline(PolynomialFeatures(3),LinearRegression())\n",
    "model_3 = poly_reg_3.fit(x_train_scaled,y_train)\n",
    "y_predict = model_3.predict(x_test)\n",
    "poly_reg_3_test_mse = metrics.mean_squared_error(y_test, y_predict)\n",
    "poly_reg_3_test_mae = metrics.mean_absolute_error(y_test, y_predict)\n",
    "poly_reg_3_test_evs = explained_variance_score(y_test, y_predict)\n",
    "print(\"This is the test mean-squared error (the lower the value the better): \", poly_reg_3_test_mse)\n",
    "print(\"This is the test mean-absolute error (the lower the value the better): \", poly_reg_3_test_mae)\n",
    "print(\"This is the test explained variance score (best possible score is 1.0, lower values are worse): \", poly_reg_3_test_evs)"
   ]
  },
  {
   "cell_type": "markdown",
   "id": "8e143dd1",
   "metadata": {},
   "source": [
    "#### Support Vector Machine Regression"
   ]
  },
  {
   "cell_type": "code",
   "execution_count": 353,
   "id": "0fb2888c",
   "metadata": {},
   "outputs": [
    {
     "name": "stdout",
     "output_type": "stream",
     "text": [
      "This is the test mean-squared error (the lower the value the better):  81812.07368658832\n",
      "This is the test mean-absolute error (the lower the value the better):  262.09832159020004\n",
      "This is the test explained variance score (best possible score is 1.0, lower values are worse):  2.220446049250313e-16\n"
     ]
    },
    {
     "name": "stderr",
     "output_type": "stream",
     "text": [
      "/Users/tylerkapp/Library/Python/3.10/lib/python/site-packages/scikit_learn-1.2.0-py3.10-macosx-12-arm64.egg/sklearn/utils/validation.py:1141: DataConversionWarning: A column-vector y was passed when a 1d array was expected. Please change the shape of y to (n_samples, ), for example using ravel().\n",
      "  y = column_or_1d(y, warn=True)\n",
      "/Users/tylerkapp/Library/Python/3.10/lib/python/site-packages/scikit_learn-1.2.0-py3.10-macosx-12-arm64.egg/sklearn/base.py:402: UserWarning: X has feature names, but SVR was fitted without feature names\n",
      "  warnings.warn(\n"
     ]
    }
   ],
   "source": [
    "svr_reg = SVR()\n",
    "model_4 = svr_reg.fit(x_train_scaled,y_train)\n",
    "y_predict = model_4.predict(x_test)\n",
    "svr_test_mse = metrics.mean_squared_error(y_test, y_predict)\n",
    "svr_test_mae = metrics.mean_absolute_error(y_test, y_predict)\n",
    "svr_test_evs = explained_variance_score(y_test, y_predict)\n",
    "print(\"This is the test mean-squared error (the lower the value the better): \", svr_test_mse)\n",
    "print(\"This is the test mean-absolute error (the lower the value the better): \", svr_test_mae)\n",
    "print(\"This is the test explained variance score (best possible score is 1.0, lower values are worse): \", svr_test_evs)"
   ]
  },
  {
   "cell_type": "markdown",
   "id": "a82c022d",
   "metadata": {},
   "source": [
    "#### Decision Tree Regression"
   ]
  },
  {
   "cell_type": "code",
   "execution_count": 354,
   "id": "0e572a74",
   "metadata": {},
   "outputs": [
    {
     "name": "stdout",
     "output_type": "stream",
     "text": [
      "This is the test mean-squared error (the lower the value the better):  374290.85\n",
      "This is the test mean-absolute error (the lower the value the better):  555.65\n",
      "This is the test explained variance score (best possible score is 1.0, lower values are worse):  0.0\n"
     ]
    },
    {
     "name": "stderr",
     "output_type": "stream",
     "text": [
      "/Users/tylerkapp/Library/Python/3.10/lib/python/site-packages/scikit_learn-1.2.0-py3.10-macosx-12-arm64.egg/sklearn/base.py:402: UserWarning: X has feature names, but DecisionTreeRegressor was fitted without feature names\n",
      "  warnings.warn(\n"
     ]
    }
   ],
   "source": [
    "dt_reg = DecisionTreeRegressor()\n",
    "model_5 = dt_reg.fit(x_train_scaled,y_train)\n",
    "y_predict = model_5.predict(x_test)\n",
    "dt_test_mse = metrics.mean_squared_error(y_test, y_predict)\n",
    "dt_test_mae = metrics.mean_absolute_error(y_test, y_predict)\n",
    "dt_test_evs = explained_variance_score(y_test, y_predict)\n",
    "print(\"This is the test mean-squared error (the lower the value the better): \", dt_test_mse)\n",
    "print(\"This is the test mean-absolute error (the lower the value the better): \", dt_test_mae)\n",
    "print(\"This is the test explained variance score (best possible score is 1.0, lower values are worse): \", dt_test_evs)"
   ]
  },
  {
   "cell_type": "markdown",
   "id": "8939d409",
   "metadata": {},
   "source": [
    "#### Random Forest Regression"
   ]
  },
  {
   "cell_type": "code",
   "execution_count": 355,
   "id": "3305df07",
   "metadata": {},
   "outputs": [
    {
     "name": "stdout",
     "output_type": "stream",
     "text": [
      "This is the test mean-squared error (the lower the value the better):  188345.81537499998\n",
      "This is the test mean-absolute error (the lower the value the better):  392.9395\n",
      "This is the test explained variance score (best possible score is 1.0, lower values are worse):  -0.09055511006339967\n"
     ]
    },
    {
     "name": "stderr",
     "output_type": "stream",
     "text": [
      "/var/folders/t5/frwy1jfs7b31fsm3w2ln0vp80000gn/T/ipykernel_2343/1623376634.py:2: DataConversionWarning: A column-vector y was passed when a 1d array was expected. Please change the shape of y to (n_samples,), for example using ravel().\n",
      "  model_6 = rf_reg.fit(x_train_scaled,y_train)\n",
      "/Users/tylerkapp/Library/Python/3.10/lib/python/site-packages/scikit_learn-1.2.0-py3.10-macosx-12-arm64.egg/sklearn/base.py:402: UserWarning: X has feature names, but RandomForestRegressor was fitted without feature names\n",
      "  warnings.warn(\n"
     ]
    }
   ],
   "source": [
    "rf_reg = RandomForestRegressor()\n",
    "model_6 = rf_reg.fit(x_train_scaled,y_train)\n",
    "y_predict = model_6.predict(x_test)\n",
    "rf_test_mse = metrics.mean_squared_error(y_test, y_predict)\n",
    "rf_test_mae = metrics.mean_absolute_error(y_test, y_predict)\n",
    "rf_test_evs = explained_variance_score(y_test, y_predict)\n",
    "print(\"This is the test mean-squared error (the lower the value the better): \", rf_test_mse)\n",
    "print(\"This is the test mean-absolute error (the lower the value the better): \", rf_test_mae)\n",
    "print(\"This is the test explained variance score (best possible score is 1.0, lower values are worse): \", rf_test_evs)"
   ]
  },
  {
   "cell_type": "markdown",
   "id": "45bb109d",
   "metadata": {},
   "source": [
    "#### Bagging Regressor"
   ]
  },
  {
   "cell_type": "code",
   "execution_count": 356,
   "id": "c6d19df2",
   "metadata": {},
   "outputs": [
    {
     "name": "stdout",
     "output_type": "stream",
     "text": [
      "This is the test mean-squared error (the lower the value the better):  145765.027\n",
      "This is the test mean-absolute error (the lower the value the better):  334.08000000000004\n",
      "This is the test explained variance score (best possible score is 1.0, lower values are worse):  -0.24873619451626539\n"
     ]
    },
    {
     "name": "stderr",
     "output_type": "stream",
     "text": [
      "/Users/tylerkapp/Library/Python/3.10/lib/python/site-packages/scikit_learn-1.2.0-py3.10-macosx-12-arm64.egg/sklearn/ensemble/_bagging.py:510: DataConversionWarning: A column-vector y was passed when a 1d array was expected. Please change the shape of y to (n_samples, ), for example using ravel().\n",
      "  return column_or_1d(y, warn=True)\n",
      "/Users/tylerkapp/Library/Python/3.10/lib/python/site-packages/scikit_learn-1.2.0-py3.10-macosx-12-arm64.egg/sklearn/base.py:402: UserWarning: X has feature names, but BaggingRegressor was fitted without feature names\n",
      "  warnings.warn(\n"
     ]
    }
   ],
   "source": [
    "br_reg = BaggingRegressor()\n",
    "model_7 = br_reg.fit(x_train_scaled,y_train)\n",
    "y_predict = model_7.predict(x_test)\n",
    "bg_test_mse = metrics.mean_squared_error(y_test, y_predict)\n",
    "bg_test_mae = metrics.mean_absolute_error(y_test, y_predict)\n",
    "bg_test_evs = explained_variance_score(y_test, y_predict)\n",
    "print(\"This is the test mean-squared error (the lower the value the better): \", bg_test_mse)\n",
    "print(\"This is the test mean-absolute error (the lower the value the better): \", bg_test_mae)\n",
    "print(\"This is the test explained variance score (best possible score is 1.0, lower values are worse): \", bg_test_evs)"
   ]
  },
  {
   "cell_type": "markdown",
   "id": "acf7088e",
   "metadata": {},
   "source": [
    "#### Gradient Boosting Regressor"
   ]
  },
  {
   "cell_type": "code",
   "execution_count": 357,
   "id": "cbf98c18",
   "metadata": {},
   "outputs": [
    {
     "name": "stdout",
     "output_type": "stream",
     "text": [
      "This is the test mean-squared error (the lower the value the better):  179060.25449999998\n",
      "This is the test mean-absolute error (the lower the value the better):  384.415\n",
      "This is the test explained variance score (best possible score is 1.0, lower values are worse):  -0.4248442996492694\n"
     ]
    },
    {
     "name": "stderr",
     "output_type": "stream",
     "text": [
      "/Users/tylerkapp/Library/Python/3.10/lib/python/site-packages/scikit_learn-1.2.0-py3.10-macosx-12-arm64.egg/sklearn/ensemble/_bagging.py:510: DataConversionWarning: A column-vector y was passed when a 1d array was expected. Please change the shape of y to (n_samples, ), for example using ravel().\n",
      "  return column_or_1d(y, warn=True)\n",
      "/Users/tylerkapp/Library/Python/3.10/lib/python/site-packages/scikit_learn-1.2.0-py3.10-macosx-12-arm64.egg/sklearn/base.py:402: UserWarning: X has feature names, but BaggingRegressor was fitted without feature names\n",
      "  warnings.warn(\n"
     ]
    }
   ],
   "source": [
    "grad_boost_reg = BaggingRegressor()\n",
    "model_8 = grad_boost_reg.fit(x_train_scaled,y_train)\n",
    "y_predict = model_8.predict(x_test)\n",
    "grad_boost_test_mse = metrics.mean_squared_error(y_test, y_predict)\n",
    "grad_boost_test_mae = metrics.mean_absolute_error(y_test, y_predict)\n",
    "grad_boost_test_evs = explained_variance_score(y_test, y_predict)\n",
    "print(\"This is the test mean-squared error (the lower the value the better): \", grad_boost_test_mse)\n",
    "print(\"This is the test mean-absolute error (the lower the value the better): \", grad_boost_test_mae)\n",
    "print(\"This is the test explained variance score (best possible score is 1.0, lower values are worse): \", grad_boost_test_evs)"
   ]
  },
  {
   "cell_type": "markdown",
   "id": "3604589d",
   "metadata": {},
   "source": [
    "#### XGBoost Regressor"
   ]
  },
  {
   "cell_type": "code",
   "execution_count": 358,
   "id": "1253ac1f",
   "metadata": {},
   "outputs": [
    {
     "name": "stdout",
     "output_type": "stream",
     "text": [
      "This is the test mean-squared error (the lower the value the better):  257976.9552059412\n",
      "This is the test mean-absolute error (the lower the value the better):  454.290771484375\n",
      "This is the test explained variance score (best possible score is 1.0, lower values are worse):  -0.10822837098213833\n"
     ]
    }
   ],
   "source": [
    "xgb_boost_reg = xgb.XGBRegressor()\n",
    "model_9 = xgb_boost_reg.fit(x_train_scaled,y_train)\n",
    "y_predict = model_9.predict(x_test)\n",
    "xgb_test_mse = metrics.mean_squared_error(y_test, y_predict)\n",
    "xgb_test_mae = metrics.mean_absolute_error(y_test, y_predict)\n",
    "xgb_test_evs = explained_variance_score(y_test, y_predict)\n",
    "print(\"This is the test mean-squared error (the lower the value the better): \", xgb_test_mse)\n",
    "print(\"This is the test mean-absolute error (the lower the value the better): \", xgb_test_mae)\n",
    "print(\"This is the test explained variance score (best possible score is 1.0, lower values are worse): \", xgb_test_evs)"
   ]
  },
  {
   "cell_type": "markdown",
   "id": "0228c937",
   "metadata": {},
   "source": [
    "### Longitudinal Models (better approach than cross-sectional)\n",
    "**Note, many model architectures have not been attempted yet, and this is a pretty simple model that has not been tuned, on random data, but nonetheless is assuredly better than what they're doing now."
   ]
  },
  {
   "cell_type": "code",
   "execution_count": 359,
   "id": "ba9e5b27",
   "metadata": {
    "scrolled": false
   },
   "outputs": [
    {
     "data": {
      "text/html": [
       "<div>\n",
       "<style scoped>\n",
       "    .dataframe tbody tr th:only-of-type {\n",
       "        vertical-align: middle;\n",
       "    }\n",
       "\n",
       "    .dataframe tbody tr th {\n",
       "        vertical-align: top;\n",
       "    }\n",
       "\n",
       "    .dataframe thead th {\n",
       "        text-align: right;\n",
       "    }\n",
       "</style>\n",
       "<table border=\"1\" class=\"dataframe\">\n",
       "  <thead>\n",
       "    <tr style=\"text-align: right;\">\n",
       "      <th></th>\n",
       "      <th>date</th>\n",
       "      <th>demand</th>\n",
       "      <th>product_price</th>\n",
       "      <th>skews</th>\n",
       "    </tr>\n",
       "  </thead>\n",
       "  <tbody>\n",
       "    <tr>\n",
       "      <th>0</th>\n",
       "      <td>t - 0</td>\n",
       "      <td>9103</td>\n",
       "      <td>356</td>\n",
       "      <td>5-wood</td>\n",
       "    </tr>\n",
       "    <tr>\n",
       "      <th>1</th>\n",
       "      <td>t - 1</td>\n",
       "      <td>2684</td>\n",
       "      <td>791</td>\n",
       "      <td>driver</td>\n",
       "    </tr>\n",
       "    <tr>\n",
       "      <th>2</th>\n",
       "      <td>t - 2</td>\n",
       "      <td>5025</td>\n",
       "      <td>195</td>\n",
       "      <td>1-wood</td>\n",
       "    </tr>\n",
       "    <tr>\n",
       "      <th>3</th>\n",
       "      <td>t - 3</td>\n",
       "      <td>2389</td>\n",
       "      <td>469</td>\n",
       "      <td>6-wood</td>\n",
       "    </tr>\n",
       "    <tr>\n",
       "      <th>4</th>\n",
       "      <td>t - 4</td>\n",
       "      <td>5649</td>\n",
       "      <td>373</td>\n",
       "      <td>7-wood</td>\n",
       "    </tr>\n",
       "  </tbody>\n",
       "</table>\n",
       "</div>"
      ],
      "text/plain": [
       "    date  demand  product_price   skews\n",
       "0  t - 0    9103            356  5-wood\n",
       "1  t - 1    2684            791  driver\n",
       "2  t - 2    5025            195  1-wood\n",
       "3  t - 3    2389            469  6-wood\n",
       "4  t - 4    5649            373  7-wood"
      ]
     },
     "execution_count": 359,
     "metadata": {},
     "output_type": "execute_result"
    }
   ],
   "source": [
    "dataset_long.head()"
   ]
  },
  {
   "cell_type": "code",
   "execution_count": 360,
   "id": "9e6db8ce",
   "metadata": {},
   "outputs": [],
   "source": [
    "# could filter the dataset here based on skews"
   ]
  },
  {
   "cell_type": "markdown",
   "id": "fabf4398",
   "metadata": {},
   "source": [
    "## Split Into train/test"
   ]
  },
  {
   "cell_type": "code",
   "execution_count": 387,
   "id": "57017d01",
   "metadata": {},
   "outputs": [],
   "source": [
    "train = dataset_long.loc[1:, ['date', 'product_price']]\n",
    "test = dataset_long.loc[0, dataset_long.columns == 'product_price']"
   ]
  },
  {
   "cell_type": "code",
   "execution_count": 388,
   "id": "5c294fd1",
   "metadata": {},
   "outputs": [
    {
     "data": {
      "text/html": [
       "<div>\n",
       "<style scoped>\n",
       "    .dataframe tbody tr th:only-of-type {\n",
       "        vertical-align: middle;\n",
       "    }\n",
       "\n",
       "    .dataframe tbody tr th {\n",
       "        vertical-align: top;\n",
       "    }\n",
       "\n",
       "    .dataframe thead th {\n",
       "        text-align: right;\n",
       "    }\n",
       "</style>\n",
       "<table border=\"1\" class=\"dataframe\">\n",
       "  <thead>\n",
       "    <tr style=\"text-align: right;\">\n",
       "      <th></th>\n",
       "      <th>date</th>\n",
       "      <th>product_price</th>\n",
       "    </tr>\n",
       "  </thead>\n",
       "  <tbody>\n",
       "    <tr>\n",
       "      <th>1</th>\n",
       "      <td>t - 1</td>\n",
       "      <td>791</td>\n",
       "    </tr>\n",
       "    <tr>\n",
       "      <th>2</th>\n",
       "      <td>t - 2</td>\n",
       "      <td>195</td>\n",
       "    </tr>\n",
       "    <tr>\n",
       "      <th>3</th>\n",
       "      <td>t - 3</td>\n",
       "      <td>469</td>\n",
       "    </tr>\n",
       "    <tr>\n",
       "      <th>4</th>\n",
       "      <td>t - 4</td>\n",
       "      <td>373</td>\n",
       "    </tr>\n",
       "    <tr>\n",
       "      <th>5</th>\n",
       "      <td>t - 5</td>\n",
       "      <td>312</td>\n",
       "    </tr>\n",
       "  </tbody>\n",
       "</table>\n",
       "</div>"
      ],
      "text/plain": [
       "    date  product_price\n",
       "1  t - 1            791\n",
       "2  t - 2            195\n",
       "3  t - 3            469\n",
       "4  t - 4            373\n",
       "5  t - 5            312"
      ]
     },
     "execution_count": 388,
     "metadata": {},
     "output_type": "execute_result"
    }
   ],
   "source": [
    "train.head()"
   ]
  },
  {
   "cell_type": "code",
   "execution_count": 389,
   "id": "91892b0a",
   "metadata": {},
   "outputs": [
    {
     "data": {
      "text/plain": [
       "product_price    356\n",
       "Name: 0, dtype: object"
      ]
     },
     "execution_count": 389,
     "metadata": {},
     "output_type": "execute_result"
    }
   ],
   "source": [
    "test.head() # true test label"
   ]
  },
  {
   "cell_type": "code",
   "execution_count": 391,
   "id": "a46001c4",
   "metadata": {},
   "outputs": [
    {
     "data": {
      "text/html": [
       "<div>\n",
       "<style scoped>\n",
       "    .dataframe tbody tr th:only-of-type {\n",
       "        vertical-align: middle;\n",
       "    }\n",
       "\n",
       "    .dataframe tbody tr th {\n",
       "        vertical-align: top;\n",
       "    }\n",
       "\n",
       "    .dataframe thead th {\n",
       "        text-align: right;\n",
       "    }\n",
       "</style>\n",
       "<table border=\"1\" class=\"dataframe\">\n",
       "  <thead>\n",
       "    <tr style=\"text-align: right;\">\n",
       "      <th></th>\n",
       "      <th>product_price</th>\n",
       "    </tr>\n",
       "  </thead>\n",
       "  <tbody>\n",
       "    <tr>\n",
       "      <th>1</th>\n",
       "      <td>791</td>\n",
       "    </tr>\n",
       "    <tr>\n",
       "      <th>2</th>\n",
       "      <td>195</td>\n",
       "    </tr>\n",
       "    <tr>\n",
       "      <th>3</th>\n",
       "      <td>469</td>\n",
       "    </tr>\n",
       "    <tr>\n",
       "      <th>4</th>\n",
       "      <td>373</td>\n",
       "    </tr>\n",
       "    <tr>\n",
       "      <th>5</th>\n",
       "      <td>312</td>\n",
       "    </tr>\n",
       "  </tbody>\n",
       "</table>\n",
       "</div>"
      ],
      "text/plain": [
       "   product_price\n",
       "1            791\n",
       "2            195\n",
       "3            469\n",
       "4            373\n",
       "5            312"
      ]
     },
     "execution_count": 391,
     "metadata": {},
     "output_type": "execute_result"
    }
   ],
   "source": [
    "# remove the date for train object\n",
    "train = train.loc[:, train.columns == 'product_price']\n",
    "train.head()"
   ]
  },
  {
   "cell_type": "code",
   "execution_count": 393,
   "id": "6a589bd5",
   "metadata": {},
   "outputs": [],
   "source": [
    "# convert to train & test sets numpy array\n",
    "train = np.asarray(train)\n",
    "test = np.asarray(test)"
   ]
  },
  {
   "cell_type": "markdown",
   "id": "eff457ac",
   "metadata": {},
   "source": [
    "#### Holt-Winters Exponential Smoothing"
   ]
  },
  {
   "cell_type": "code",
   "execution_count": 400,
   "id": "e1c655cc",
   "metadata": {},
   "outputs": [
    {
     "name": "stdout",
     "output_type": "stream",
     "text": [
      "Holt-Winters Exponential Smoothing model predicttion of price at time t-0 (current time) =  491.6195054444226\n",
      "Actual price at time t-0 (current time) =  356\n"
     ]
    }
   ],
   "source": [
    "train = np.asarray(train)\n",
    "model = ExponentialSmoothing(train) \n",
    "\n",
    "results = model.fit() \n",
    "forecast = results.forecast() \n",
    "predicted = forecast[0]\n",
    "print('Holt-Winters Exponential Smoothing model predicttion of price at time t-0 (current time) = ', predicted)\n",
    "print('Actual price at time t-0 (current time) = ', int(test))"
   ]
  }
 ],
 "metadata": {
  "kernelspec": {
   "display_name": "Python 3 (ipykernel)",
   "language": "python",
   "name": "python3"
  },
  "language_info": {
   "codemirror_mode": {
    "name": "ipython",
    "version": 3
   },
   "file_extension": ".py",
   "mimetype": "text/x-python",
   "name": "python",
   "nbconvert_exporter": "python",
   "pygments_lexer": "ipython3",
   "version": "3.10.7"
  }
 },
 "nbformat": 4,
 "nbformat_minor": 5
}
